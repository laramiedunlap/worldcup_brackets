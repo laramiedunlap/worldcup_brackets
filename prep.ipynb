{
 "cells": [
  {
   "cell_type": "code",
   "execution_count": 34,
   "metadata": {},
   "outputs": [],
   "source": [
    "import pandas as pd\n",
    "import os\n",
    "\n",
    "dfs = []\n",
    "for f in os.listdir('brackets'):\n",
    "    df = pd.read_csv(f'brackets/{f}')\n",
    "    df.columns = ['Sweet 16', 'Elite 8', 'Final 4', 'Final', 'Champion']\n",
    "    df.name = f[23:]\n",
    "    dfs.append(df)\n",
    "\n",
    "results = pd.read_csv('results/WORLD CUP PREDICTIONS - Sheet16 (1).csv')\n",
    "s_16_actual = results['Sweet 16'].to_list()"
   ]
  },
  {
   "cell_type": "code",
   "execution_count": 35,
   "metadata": {},
   "outputs": [
    {
     "name": "stdout",
     "output_type": "stream",
     "text": [
      "Sweet 16 scores:  \n",
      "\n",
      " Agapitos: 7\n",
      "\n",
      " Andreas: 11\n",
      "\n",
      " Colin: 9\n",
      "\n",
      " Dimitri: 11\n",
      "\n",
      " DK: 10\n",
      "\n",
      " Ergkys: 11\n",
      "\n",
      " George Tsetsekos: 12\n",
      "\n",
      " George Tzigiannis: 12\n",
      "\n",
      " Jessica: 11\n",
      "\n",
      " Konstantinos: 8\n",
      "\n",
      " Laramie: 10\n",
      "\n",
      " Spiros: 10\n",
      "\n",
      " Spyros: 10\n",
      "\n",
      " Ted: 8\n",
      "\n",
      " Tom: 8\n"
     ]
    }
   ],
   "source": [
    "print(f\"Sweet 16 scores:  \")\n",
    "results = results['Sweet 16'].to_list()\n",
    "for df in dfs:\n",
    "    s16 = df['Sweet 16'].to_list()\n",
    "    print()\n",
    "    name = df.name[:-4]\n",
    "    s16_score = len([i for i in s16 if i in results])\n",
    "    print(f\"{name}: {s16_score}\")\n"
   ]
  },
  {
   "cell_type": "code",
   "execution_count": null,
   "metadata": {},
   "outputs": [],
   "source": []
  }
 ],
 "metadata": {
  "kernelspec": {
   "display_name": "Python 3.10.0 64-bit",
   "language": "python",
   "name": "python3"
  },
  "language_info": {
   "codemirror_mode": {
    "name": "ipython",
    "version": 3
   },
   "file_extension": ".py",
   "mimetype": "text/x-python",
   "name": "python",
   "nbconvert_exporter": "python",
   "pygments_lexer": "ipython3",
   "version": "3.10.0"
  },
  "orig_nbformat": 4,
  "vscode": {
   "interpreter": {
    "hash": "b2b7bd50c057d2b5f49db6ad17b064144dc52b48fdb32ac6d2b16a6f998583ee"
   }
  }
 },
 "nbformat": 4,
 "nbformat_minor": 2
}
